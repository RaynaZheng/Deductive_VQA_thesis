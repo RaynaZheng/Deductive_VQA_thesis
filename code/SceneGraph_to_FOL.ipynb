{
 "cells": [
  {
   "cell_type": "code",
   "execution_count": 1,
   "metadata": {},
   "outputs": [],
   "source": [
    "import sys \n",
    "import json \n",
    "import os "
   ]
  },
  {
   "cell_type": "code",
   "execution_count": 2,
   "metadata": {},
   "outputs": [],
   "source": [
    "with open('/Users/raynazheng/Dropbox/Deductive visual question answering with spatial ontology/data/train_sceneGraphs.json') as file:\n",
    "    train = json.load(file) \n",
    "# with open('/Users/raynazheng/Desktop/SceneUnderstanding/2022summer/sceneGraphs/val_sceneGraphs.json') as file:\n",
    "#     val = json.load(file) "
   ]
  },
  {
   "cell_type": "markdown",
   "metadata": {},
   "source": [
    "## Generate Object ID vs Name Dictionary "
   ]
  },
  {
   "cell_type": "code",
   "execution_count": 3,
   "metadata": {},
   "outputs": [],
   "source": [
    "obj_dic = {}\n",
    "for s_id, info in train.items():\n",
    "    for obj_id, obj_info in info['objects'].items():\n",
    "        if obj_id not in obj_dic:\n",
    "            obj_dic[obj_id] = obj_info['name']\n",
    "        else:\n",
    "            continue \n",
    "\n",
    "with open(\"object_dictionary.json\", \"w\") as outfile:\n",
    "    json.dump(obj_dic, outfile)"
   ]
  },
  {
   "cell_type": "code",
   "execution_count": 4,
   "metadata": {},
   "outputs": [
    {
     "name": "stdout",
     "output_type": "stream",
     "text": [
      "{'width': 500, 'objects': {'4382361': {'name': 'fork', 'h': 179, 'relations': [{'object': '4382325', 'name': 'near'}, {'object': '4382325', 'name': 'to the left of'}, {'object': '4382325', 'name': 'next to'}], 'w': 30, 'attributes': [], 'y': 162, 'x': 143}, '4382364': {'name': 'table', 'h': 372, 'relations': [], 'w': 499, 'attributes': [], 'y': 3, 'x': 0}, '4382332': {'name': 'spoon', 'h': 28, 'relations': [], 'w': 147, 'attributes': [], 'y': 110, 'x': 187}, '4663512': {'name': 'forks', 'h': 178, 'relations': [{'object': '4663513', 'name': 'on'}, {'object': '4382325', 'name': 'to the left of'}, {'object': '4663513', 'name': 'above'}], 'w': 47, 'attributes': [], 'y': 161, 'x': 123}, '4663513': {'name': 'napkin', 'h': 212, 'relations': [{'object': '4663512', 'name': 'under'}, {'object': '4382325', 'name': 'to the left of'}], 'w': 100, 'attributes': ['cloth', 'white'], 'y': 152, 'x': 86}, '4382325': {'name': 'plate', 'h': 216, 'relations': [{'object': '4663534', 'name': 'to the left of'}, {'object': '4663513', 'name': 'to the right of'}, {'object': '4382361', 'name': 'near'}, {'object': '4382361', 'name': 'to the right of'}, {'object': '4663512', 'name': 'to the right of'}], 'w': 245, 'attributes': ['silver'], 'y': 143, 'x': 159}, '4663534': {'name': 'spoon', 'h': 143, 'relations': [{'object': '4663535', 'name': 'to the right of'}, {'object': '4382325', 'name': 'to the right of'}], 'w': 44, 'attributes': [], 'y': 191, 'x': 412}, '4663535': {'name': 'knife', 'h': 183, 'relations': [{'object': '4663534', 'name': 'to the left of'}], 'w': 57, 'attributes': [], 'y': 162, 'x': 371}}, 'height': 375}\n"
     ]
    }
   ],
   "source": [
    "print(train['4827'])"
   ]
  },
  {
   "cell_type": "code",
   "execution_count": 5,
   "metadata": {},
   "outputs": [],
   "source": [
    "with open(\"object_dictionary.json\", \"r\") as dic:\n",
    "    obj_dic = json.load(dic)"
   ]
  },
  {
   "cell_type": "markdown",
   "metadata": {},
   "source": [
    "## Translate Scene Graph into FOL .in File "
   ]
  },
  {
   "cell_type": "code",
   "execution_count": 7,
   "metadata": {},
   "outputs": [],
   "source": [
    "# Assuming 'train' and 'obj_dic' are defined earlier in the code\n",
    "s_id = '4827'\n",
    "info = train['4827']\n",
    "\n",
    "with open(f'scene_{s_id}_1.in', 'w') as f:\n",
    "    obj_count = 1\n",
    "    obj_constant_var = {} #dictionary for object identifiers\n",
    "    connected_objects = set()\n",
    "    axioms = set()\n",
    "\n",
    "    for obj_id, obj_info in info['objects'].items():\n",
    "        # retrive information from scene graph data\n",
    "        subject = obj_info['name'].replace(\" \", \"_\")\n",
    "        sub_var = obj_constant_var.setdefault(subject, f'o{obj_count}')\n",
    "        if sub_var == f'o{obj_count}':\n",
    "            obj_count += 1\n",
    "        \n",
    "        for rela in obj_info['relations']:\n",
    "            object_id = rela['object']\n",
    "            if object_id in obj_dic:\n",
    "                object_name = obj_dic[object_id].replace(\" \", \"_\")\n",
    "            else:\n",
    "                continue\n",
    "            relation = rela['name'].replace(\" \", \"_\")\n",
    "\n",
    "            obj_var = obj_constant_var.setdefault(object_name, f'o{obj_count}')\n",
    "            if obj_var == f'o{obj_count}':\n",
    "                obj_count += 1\n",
    "\n",
    "            # construct axiom for each relationship\n",
    "            axiom = f\"({subject}({sub_var}) & {relation}({sub_var}, {obj_var}) & {object_name}({obj_var}) & ({sub_var} != {obj_var})).\"\n",
    "            axioms.add(axiom)\n",
    "            connected_objects.add((subject, object_name))\n",
    "\n",
    "    #for pairs of objects without explicit spatial relations in the scene graph data\n",
    "    # the code generates axioms to denote their lack of connection in the scene graph\n",
    "    for sub, sub_var in obj_constant_var.items():\n",
    "        for obj, obj_var in obj_constant_var.items():\n",
    "            if (sub != obj) and ((sub, obj) not in connected_objects):\n",
    "                axiom = f\"({sub}({sub_var}) & -C({sub_var}, {obj_var}) & {obj}({obj_var}) & ({sub_var} != {obj_var})).\"\n",
    "                axioms.add(axiom)\n",
    "                connected_objects.add((sub, obj))\n",
    "                connected_objects.add((obj, sub))\n",
    "\n",
    "    # export into .in file\n",
    "    for axiom in axioms:\n",
    "        f.write(axiom + '\\n')\n",
    "        \n",
    "    f.close()\n"
   ]
  },
  {
   "cell_type": "code",
   "execution_count": null,
   "metadata": {},
   "outputs": [],
   "source": [
    "import sys \n",
    "import json \n",
    "import os \n",
    "\n",
    "with open('data/train_sceneGraphs.json') as file:\n",
    "    train = json.load(file) \n",
    "\n",
    "obj_dic = {}\n",
    "for s_id, info in train.items():\n",
    "    for obj_id, obj_info in info['objects'].items():\n",
    "        if obj_id not in obj_dic:\n",
    "            obj_dic[obj_id] = obj_info['name']\n",
    "        else:\n",
    "            continue "
   ]
  }
 ],
 "metadata": {
  "kernelspec": {
   "display_name": "Python 3",
   "language": "python",
   "name": "python3"
  },
  "language_info": {
   "codemirror_mode": {
    "name": "ipython",
    "version": 3
   },
   "file_extension": ".py",
   "mimetype": "text/x-python",
   "name": "python",
   "nbconvert_exporter": "python",
   "pygments_lexer": "ipython3",
   "version": "3.9.6"
  }
 },
 "nbformat": 4,
 "nbformat_minor": 2
}
